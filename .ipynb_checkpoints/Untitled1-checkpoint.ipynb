{
 "cells": [
  {
   "cell_type": "code",
   "execution_count": null,
   "metadata": {},
   "outputs": [],
   "source": []
  },
  {
   "cell_type": "code",
   "execution_count": null,
   "metadata": {},
   "outputs": [],
   "source": [
    "#创建一个字典来统计各个字段在简历中出现的次数\n",
    "\n",
    "#首先定义一个空字典\n",
    "d={}\n",
    "\n",
    "# 因为字典内部还嵌套了二层字典，所以需要有两个循环\n",
    "for person,info in train_label.items():\n",
    "    for key,value in info.items():\n",
    "        if isinstance(value,list): #isinstanc()函数判断一个对象是否是一个已知的类型\n",
    "            d.setdefault(key,{})\n",
    "            for key2 in value[0].keys():\n",
    "                d[key].setdefault(key2,0)\n",
    "                d[key][key2] += 1\n",
    "                \n",
    "        else:\n",
    "            d.setdefault(key,0)\n",
    "            d[key] +=1\n",
    "            \n",
    "print(\"各字段在简历中出现的次数统计:\")\n",
    "d\n"
   ]
  },
  {
   "cell_type": "code",
   "execution_count": null,
   "metadata": {},
   "outputs": [],
   "source": [
    "# 将原始的train_label转化为题目所需的提交格式，用于后续计算F1\n",
    "\n",
    "def convert_train_label(train_label):\n",
    "    \n",
    "    result = {}  # 字典的格式\n",
    "    \n",
    "    for person, info in train_label.items():\n",
    "        info2 = {}\n",
    "        for key, value in info.items():\n",
    "            if isinstance(value,list):\n",
    "                for innerdic in value:\n",
    "                    for key1,value1 in innerdic.items():\n",
    "                        info2.setdefault(key1,[])\n",
    "                        info2[key1].append(value1)\n",
    "                      # append()函数 在列表末尾添加对象\n",
    "                      # setdefault()函数代表如果没有该键，则添加对应的值\n",
    "            else:\n",
    "                info2[key] = value\n",
    "    \n",
    "        result[person] = info2\n",
    "                \n",
    "    return result\n",
    "\n",
    "\n",
    "#Test --------------------------\n",
    "train_y = convert_train_label(train_label)\n",
    "train_y[\"a6062121cba0\"]"
   ]
  },
  {
   "cell_type": "code",
   "execution_count": null,
   "metadata": {},
   "outputs": [],
   "source": [
    "# pdfplumber \n",
    "\n",
    "sample_path = '/home/cyy/Tianchi_resume/trainset_pdf/0a2df74bbc31.pdf'\n",
    "pdf = pdfplumber.open(sample_path)\n",
    "\n",
    "for i,page in enumerate(pdf.pages):\n",
    "    text = page.extract_text()\n",
    "    print (i, \"=\"*20)\n",
    "    print (text)\n"
   ]
  },
  {
   "cell_type": "code",
   "execution_count": null,
   "metadata": {},
   "outputs": [],
   "source": []
  }
 ],
 "metadata": {
  "kernelspec": {
   "display_name": "Python 3",
   "language": "python",
   "name": "python3"
  },
  "language_info": {
   "codemirror_mode": {
    "name": "ipython",
    "version": 3
   },
   "file_extension": ".py",
   "mimetype": "text/x-python",
   "name": "python",
   "nbconvert_exporter": "python",
   "pygments_lexer": "ipython3",
   "version": "3.7.3"
  }
 },
 "nbformat": 4,
 "nbformat_minor": 2
}
