{
 "cells": [
  {
   "cell_type": "code",
   "execution_count": 1,
   "metadata": {},
   "outputs": [],
   "source": [
    "import numpy as np"
   ]
  },
  {
   "cell_type": "code",
   "execution_count": 7,
   "metadata": {},
   "outputs": [],
   "source": [
    "def admm_lasso(X, y, lam, rho=1., Max_Iter=50, RelTol=0.001):\n",
    "    m,n = X.shape\n",
    "    Xty = X.T.dot(y)  #转置及点乘#\n",
    "    Beta1 =  np.linalg.inv(X.T.dot(X)+rho*np.identity(n)) \n",
    "\n",
    "    Beta = np.zeros((n,1))\n",
    "    Alpha = np.zeros((n,1))\n",
    "    W = np.zeros((n,1))\n",
    "    \n",
    "    for i in range(Max_Iter):\n",
    "        \n",
    "        # update Beta\n",
    "        \n",
    "        Beta = Beta1.dot(Xty+rho*(Alpha-W))\n",
    "        \n",
    "        # update alpha\n",
    "        \n",
    "        A_hold = np.copy(Alpha)\n",
    "        Alpha = np.maximum(0.,Beta+(W/rho)-(lam/rho)) - np.maximum(0., -(Beta+(W/rho))-(lam/rho))\n",
    "        \n",
    "        # update W\n",
    "        \n",
    "        W = W+rho*(Beta-Alpha)\n",
    "        \n",
    "        # break condition\n",
    "        \n",
    "        if ((((Alpha-Beta)**2).sum()**0.5)<RelTol) or ((((Alpha-A_hold)**2).sum()**0.5)<RelTol):\n",
    "            break\n",
    "\n",
    "    return Beta"
   ]
  },
  {
   "cell_type": "code",
   "execution_count": null,
   "metadata": {},
   "outputs": [],
   "source": []
  }
 ],
 "metadata": {
  "kernelspec": {
   "display_name": "Python 3",
   "language": "python",
   "name": "python3"
  },
  "language_info": {
   "codemirror_mode": {
    "name": "ipython",
    "version": 3
   },
   "file_extension": ".py",
   "mimetype": "text/x-python",
   "name": "python",
   "nbconvert_exporter": "python",
   "pygments_lexer": "ipython3",
   "version": "3.7.3"
  }
 },
 "nbformat": 4,
 "nbformat_minor": 2
}
