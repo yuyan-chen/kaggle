{
 "cells": [
  {
   "cell_type": "markdown",
   "metadata": {},
   "source": [
    "\\begin{array}\n",
    "{l}{\\text { Given } y \\in \\mathbb{R}^{n}, X \\in \\mathbb{R}^{n \\times p}, \n",
    "\\text { recall the lasso problem: }} \\\\ \n",
    "{\\qquad \\min _{\\beta} \\frac{1}{2}\\|y-X \\beta\\|_{2}^{2}+\\lambda\\|\\beta\\|_{1}} \\\\ \n",
    "{\\text { We can rewrite this as: }} \\\\ \n",
    "{\\qquad \\min _{\\beta, \\alpha} \\frac{1}{2}\\|y-X \\beta\\|_{2}^{2}+\\lambda\\|\\alpha\\|_{1} \\text { subject to } \\beta-\\alpha=0} \\\\\n",
    "{\\text { ADMM steps: }} \\\\ \n",
    "{\\qquad \n",
    "\\begin{aligned} \n",
    "\\beta^{(k)} &=\\left(X^{T} X+\\rho I\\right)^{-1}\\left(X^{T} y+\\rho\\left(\\alpha^{(k-1)}-w^{(k-1)}\\right)\\right) \\\\\n",
    "\\alpha^{(k)} &=S_{\\lambda / \\rho}\\left(\\beta^{(k)}+w^{(k-1)}\\right) \\\\ \n",
    "w^{(k)} &=w^{(k-1)}+\\beta^{(k)}-\\alpha^{(k)} \n",
    "\\end{aligned}}\n",
    "\\end{array} \n",
    "\n",
    "\\begin{equation}\n",
    "\\left[S_{t}(x)\\right]_{j}=\\left\\{\\begin{array}{ll}{x_{j}-t} & {x>t} \\\\ {0} & {-t \\leq x \\leq t, \\quad j=1, \\ldots p} \\\\ {x_{j}+t} & {x<-t}\\end{array}\\right.\n",
    "\\end{equation}"
   ]
  },
  {
   "cell_type": "code",
   "execution_count": 120,
   "metadata": {},
   "outputs": [],
   "source": [
    "import numpy as np\n",
    "\n",
    "def admm_lasso(X,y,alpha,rho=1.,ep=0.001,MAX_ITER=100,):\n",
    "    m,n = X.shape\n",
    "    Xty = X.T.dot(y)   \n",
    "    B1 = np.linalg.inv(X.T.dot(X)+rho*np.identity(n))\n",
    "    kappa=alpha*1./rho\n",
    "    \n",
    "    B = np.zeros((n,1))\n",
    "    A = np.zeros((n,1))\n",
    "    W = np.zeros((n,1))\n",
    "\n",
    "    for k in range(MAX_ITER):\n",
    "\n",
    "        # B-update \n",
    "        B = B1.dot(Xty+rho*(A-W))\n",
    "  \n",
    "        # A-update with relaxation\n",
    "        Aold = np.copy(A)\n",
    "        A = np.maximum(0.,B+W-kappa)-np.maximum(0.,-(B+W)-kappa)\n",
    "\n",
    "        # u-update\n",
    "        W+=(B-A)\n",
    "\n",
    "        if ((((A-B)**2).sum()**0.5)<ep) or ((((A-Aold)**2).sum()**0.5)<ep):\n",
    "            break\n",
    "\n",
    "    return B"
   ]
  },
  {
   "cell_type": "markdown",
   "metadata": {},
   "source": [
    "$$\\{X_i\\}_{i=1}^{100}\\sim N(0,1),p=100,n=1000$$\n",
    "$$Y=\\sum_{i=1}^{10} X_i + \\epsilon$$"
   ]
  },
  {
   "cell_type": "code",
   "execution_count": 125,
   "metadata": {},
   "outputs": [
    {
     "data": {
      "text/plain": [
       "array([0.9887372 , 0.92784014, 1.02082513, 0.97490666, 0.96223794,\n",
       "       1.01729031, 0.93602203, 1.01349687, 0.93675986, 0.9718917 ,\n",
       "       0.        , 0.        , 0.        , 0.        , 0.        ,\n",
       "       0.        , 0.        , 0.        , 0.        , 0.        ,\n",
       "       0.        , 0.        , 0.        , 0.        , 0.        ,\n",
       "       0.        , 0.        , 0.        , 0.        , 0.        ,\n",
       "       0.        , 0.        , 0.        , 0.        , 0.        ,\n",
       "       0.        , 0.        , 0.        , 0.        , 0.        ,\n",
       "       0.        , 0.        , 0.        , 0.        , 0.        ,\n",
       "       0.        , 0.        , 0.        , 0.        , 0.        ,\n",
       "       0.        , 0.        , 0.        , 0.        , 0.        ,\n",
       "       0.        , 0.        , 0.        , 0.        , 0.        ,\n",
       "       0.        , 0.        , 0.        , 0.        , 0.        ,\n",
       "       0.        , 0.        , 0.        , 0.        , 0.        ,\n",
       "       0.        , 0.        , 0.        , 0.        , 0.        ,\n",
       "       0.        , 0.        , 0.        , 0.        , 0.        ,\n",
       "       0.        , 0.        , 0.        , 0.        , 0.        ,\n",
       "       0.        , 0.        , 0.        , 0.        , 0.        ,\n",
       "       0.        , 0.        , 0.        , 0.        , 0.        ,\n",
       "       0.        , 0.        , 0.        , 0.        , 0.        ])"
      ]
     },
     "execution_count": 125,
     "metadata": {},
     "output_type": "execute_result"
    }
   ],
   "source": [
    "np.random.seed(1234)\n",
    "N = 1000\n",
    "D = 100\n",
    "\n",
    "X = np.random.randn(N, D)\n",
    "b = np.random.randn(N, 1)\n",
    "Y = X[:,:10].sum(1).reshape(1000,1) + b\n",
    "\n",
    "ladmm=lasso_admm(X,Y,10)\n",
    "ladmm"
   ]
  }
 ],
 "metadata": {
  "kernelspec": {
   "display_name": "Python 3",
   "language": "python",
   "name": "python3"
  },
  "language_info": {
   "codemirror_mode": {
    "name": "ipython",
    "version": 3
   },
   "file_extension": ".py",
   "mimetype": "text/x-python",
   "name": "python",
   "nbconvert_exporter": "python",
   "pygments_lexer": "ipython3",
   "version": "3.7.3"
  }
 },
 "nbformat": 4,
 "nbformat_minor": 2
}
